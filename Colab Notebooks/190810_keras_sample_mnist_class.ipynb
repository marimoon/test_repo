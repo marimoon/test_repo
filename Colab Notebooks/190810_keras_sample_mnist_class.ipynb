{
 "cells": [
  {
   "cell_type": "code",
   "execution_count": 12,
   "metadata": {
    "colab": {
     "base_uri": "https://localhost:8080/",
     "height": 34
    },
    "colab_type": "code",
    "executionInfo": {
     "elapsed": 916,
     "status": "ok",
     "timestamp": 1565565100493,
     "user": {
      "displayName": "あんずまりも",
      "photoUrl": "",
      "userId": "13382162523357820489"
     },
     "user_tz": -540
    },
    "id": "5_buWFLj8gMu",
    "outputId": "de2db587-4b07-4490-c811-abd62df7c2a3"
   },
   "outputs": [
    {
     "name": "stdout",
     "output_type": "stream",
     "text": [
      "Drive already mounted at /content/drive; to attempt to forcibly remount, call drive.mount(\"/content/drive\", force_remount=True).\n"
     ]
    }
   ],
   "source": [
    "from google.colab import drive\n",
    "drive.mount('/content/drive')"
   ]
  },
  {
   "cell_type": "code",
   "execution_count": 13,
   "metadata": {
    "colab": {
     "base_uri": "https://localhost:8080/",
     "height": 51
    },
    "colab_type": "code",
    "executionInfo": {
     "elapsed": 2672,
     "status": "ok",
     "timestamp": 1565565102334,
     "user": {
      "displayName": "あんずまりも",
      "photoUrl": "",
      "userId": "13382162523357820489"
     },
     "user_tz": -540
    },
    "id": "00Hfkgci0ePC",
    "outputId": "21b9d531-fa16-47a1-b909-6e6b45ecc230"
   },
   "outputs": [
    {
     "name": "stdout",
     "output_type": "stream",
     "text": [
      " aaa.npy  'Colab Notebooks'   dl4us-master.zip\t noise.png   web_datascientist\n",
      " colab\t   dl4us-master       Kaggle\t\t test.txt    web_deeplearning\n"
     ]
    }
   ],
   "source": [
    "!ls /content/drive/\"My Drive\""
   ]
  },
  {
   "cell_type": "code",
   "execution_count": 0,
   "metadata": {
    "colab": {},
    "colab_type": "code",
    "id": "j6jLSRLn0hZ_"
   },
   "outputs": [],
   "source": [
    "import keras\n",
    "from keras.datasets import mnist\n",
    "from keras.models import Sequential\n",
    "from keras.layers import Dense, Dropout\n",
    "from keras.optimizers import RMSprop"
   ]
  },
  {
   "cell_type": "code",
   "execution_count": 0,
   "metadata": {
    "colab": {},
    "colab_type": "code",
    "id": "yuveA04w0pUo"
   },
   "outputs": [],
   "source": [
    "batch_size = 128\n",
    "num_classes = 10\n",
    "epochs = 20"
   ]
  },
  {
   "cell_type": "code",
   "execution_count": 0,
   "metadata": {
    "colab": {},
    "colab_type": "code",
    "id": "RKCE_vxO0sTh"
   },
   "outputs": [],
   "source": [
    "# the data, shuffled and split between train and test sets\n",
    "(x_train, y_train), (x_test, y_test) = mnist.load_data()"
   ]
  },
  {
   "cell_type": "code",
   "execution_count": 17,
   "metadata": {
    "colab": {
     "base_uri": "https://localhost:8080/",
     "height": 34
    },
    "colab_type": "code",
    "executionInfo": {
     "elapsed": 2826,
     "status": "ok",
     "timestamp": 1565565102721,
     "user": {
      "displayName": "あんずまりも",
      "photoUrl": "",
      "userId": "13382162523357820489"
     },
     "user_tz": -540
    },
    "id": "FwpKKTXB0vYo",
    "outputId": "ff15aa6f-fc2b-4de3-e1cd-890333b6cd73"
   },
   "outputs": [
    {
     "data": {
      "text/plain": [
       "((60000, 28, 28), (10000, 28, 28))"
      ]
     },
     "execution_count": 17,
     "metadata": {
      "tags": []
     },
     "output_type": "execute_result"
    }
   ],
   "source": [
    "x_train.shape, x_test.shape"
   ]
  },
  {
   "cell_type": "code",
   "execution_count": 26,
   "metadata": {
    "colab": {
     "base_uri": "https://localhost:8080/",
     "height": 51
    },
    "colab_type": "code",
    "executionInfo": {
     "elapsed": 3981,
     "status": "ok",
     "timestamp": 1565565607856,
     "user": {
      "displayName": "あんずまりも",
      "photoUrl": "",
      "userId": "13382162523357820489"
     },
     "user_tz": -540
    },
    "id": "pKgiLwtq041t",
    "outputId": "0424bf4f-031b-4344-abac-ec1d7fad4440"
   },
   "outputs": [
    {
     "name": "stdout",
     "output_type": "stream",
     "text": [
      "data  mylib  test.txt\n",
      "mnist.npz\n"
     ]
    }
   ],
   "source": [
    "import numpy as np\n",
    "!ls /content/drive/\"My Drive\"/colab/\n",
    "np.savez('/content/drive/My Drive/colab/data/mnist', x_train, x_test, y_train, y_test)\n",
    "!ls /content/drive/\"My Drive\"/colab/data"
   ]
  },
  {
   "cell_type": "code",
   "execution_count": 19,
   "metadata": {
    "colab": {
     "base_uri": "https://localhost:8080/",
     "height": 51
    },
    "colab_type": "code",
    "executionInfo": {
     "elapsed": 6430,
     "status": "ok",
     "timestamp": 1565565106410,
     "user": {
      "displayName": "あんずまりも",
      "photoUrl": "",
      "userId": "13382162523357820489"
     },
     "user_tz": -540
    },
    "id": "Kqv-d0_h2uiE",
    "outputId": "1f5af948-149f-4ad0-df95-a53b0edfb043"
   },
   "outputs": [
    {
     "name": "stdout",
     "output_type": "stream",
     "text": [
      "60000 train samples\n",
      "10000 test samples\n"
     ]
    }
   ],
   "source": [
    "x_train = x_train.reshape(60000, 784) # 2次元配列を1次元に変換\n",
    "x_test = x_test.reshape(10000, 784)\n",
    "x_train = x_train.astype('float32')   # int型をfloat32型に変換\n",
    "x_test = x_test.astype('float32')\n",
    "x_train /= 255                        # [0-255]の値を[0.0-1.0]に変換\n",
    "x_test /= 255\n",
    "print(x_train.shape[0], 'train samples')\n",
    "print(x_test.shape[0], 'test samples')"
   ]
  },
  {
   "cell_type": "code",
   "execution_count": 0,
   "metadata": {
    "colab": {},
    "colab_type": "code",
    "id": "yJT7xc167unk"
   },
   "outputs": [],
   "source": [
    "# convert class vectors to binary class matrices\n",
    "y_train = keras.utils.to_categorical(y_train, num_classes)\n",
    "y_test = keras.utils.to_categorical(y_test, num_classes)"
   ]
  },
  {
   "cell_type": "code",
   "execution_count": 21,
   "metadata": {
    "colab": {
     "base_uri": "https://localhost:8080/",
     "height": 598
    },
    "colab_type": "code",
    "executionInfo": {
     "elapsed": 7684,
     "status": "ok",
     "timestamp": 1565565107725,
     "user": {
      "displayName": "あんずまりも",
      "photoUrl": "",
      "userId": "13382162523357820489"
     },
     "user_tz": -540
    },
    "id": "JpqFWfBS7553",
    "outputId": "caa8c2f6-77ef-4d51-d9e0-ae5eba4786a6"
   },
   "outputs": [
    {
     "name": "stderr",
     "output_type": "stream",
     "text": [
      "WARNING: Logging before flag parsing goes to stderr.\n",
      "W0811 23:11:47.558411 140578563446656 deprecation_wrapper.py:119] From /usr/local/lib/python3.6/dist-packages/keras/backend/tensorflow_backend.py:74: The name tf.get_default_graph is deprecated. Please use tf.compat.v1.get_default_graph instead.\n",
      "\n",
      "W0811 23:11:47.597626 140578563446656 deprecation_wrapper.py:119] From /usr/local/lib/python3.6/dist-packages/keras/backend/tensorflow_backend.py:517: The name tf.placeholder is deprecated. Please use tf.compat.v1.placeholder instead.\n",
      "\n",
      "W0811 23:11:47.603788 140578563446656 deprecation_wrapper.py:119] From /usr/local/lib/python3.6/dist-packages/keras/backend/tensorflow_backend.py:4138: The name tf.random_uniform is deprecated. Please use tf.random.uniform instead.\n",
      "\n",
      "W0811 23:11:47.621469 140578563446656 deprecation_wrapper.py:119] From /usr/local/lib/python3.6/dist-packages/keras/backend/tensorflow_backend.py:133: The name tf.placeholder_with_default is deprecated. Please use tf.compat.v1.placeholder_with_default instead.\n",
      "\n",
      "W0811 23:11:47.630600 140578563446656 deprecation.py:506] From /usr/local/lib/python3.6/dist-packages/keras/backend/tensorflow_backend.py:3445: calling dropout (from tensorflow.python.ops.nn_ops) with keep_prob is deprecated and will be removed in a future version.\n",
      "Instructions for updating:\n",
      "Please use `rate` instead of `keep_prob`. Rate should be set to `rate = 1 - keep_prob`.\n",
      "W0811 23:11:47.699537 140578563446656 deprecation_wrapper.py:119] From /usr/local/lib/python3.6/dist-packages/keras/optimizers.py:790: The name tf.train.Optimizer is deprecated. Please use tf.compat.v1.train.Optimizer instead.\n",
      "\n",
      "W0811 23:11:47.714709 140578563446656 deprecation_wrapper.py:119] From /usr/local/lib/python3.6/dist-packages/keras/backend/tensorflow_backend.py:3295: The name tf.log is deprecated. Please use tf.math.log instead.\n",
      "\n"
     ]
    },
    {
     "name": "stdout",
     "output_type": "stream",
     "text": [
      "_________________________________________________________________\n",
      "Layer (type)                 Output Shape              Param #   \n",
      "=================================================================\n",
      "dense_1 (Dense)              (None, 512)               401920    \n",
      "_________________________________________________________________\n",
      "dropout_1 (Dropout)          (None, 512)               0         \n",
      "_________________________________________________________________\n",
      "dense_2 (Dense)              (None, 512)               262656    \n",
      "_________________________________________________________________\n",
      "dropout_2 (Dropout)          (None, 512)               0         \n",
      "_________________________________________________________________\n",
      "dense_3 (Dense)              (None, 10)                5130      \n",
      "=================================================================\n",
      "Total params: 669,706\n",
      "Trainable params: 669,706\n",
      "Non-trainable params: 0\n",
      "_________________________________________________________________\n"
     ]
    }
   ],
   "source": [
    "model = Sequential()\n",
    "model.add(Dense(512, activation='relu', input_shape=(784,)))\n",
    "model.add(Dropout(0.2))\n",
    "model.add(Dense(512, activation='relu'))\n",
    "model.add(Dropout(0.2))\n",
    "model.add(Dense(10, activation='softmax'))\n",
    "\n",
    "model.summary()\n",
    "model.compile(loss='categorical_crossentropy',\n",
    "              optimizer=RMSprop(),\n",
    "              metrics=['accuracy'])"
   ]
  },
  {
   "cell_type": "code",
   "execution_count": 22,
   "metadata": {
    "colab": {
     "base_uri": "https://localhost:8080/",
     "height": 785
    },
    "colab_type": "code",
    "executionInfo": {
     "elapsed": 48457,
     "status": "ok",
     "timestamp": 1565565148539,
     "user": {
      "displayName": "あんずまりも",
      "photoUrl": "",
      "userId": "13382162523357820489"
     },
     "user_tz": -540
    },
    "id": "5Br89tOC7903",
    "outputId": "efe9ccb3-faca-498d-aae9-f1bb3e5e0b36"
   },
   "outputs": [
    {
     "name": "stderr",
     "output_type": "stream",
     "text": [
      "W0811 23:11:47.949629 140578563446656 deprecation.py:323] From /usr/local/lib/python3.6/dist-packages/tensorflow/python/ops/math_grad.py:1250: add_dispatch_support.<locals>.wrapper (from tensorflow.python.ops.array_ops) is deprecated and will be removed in a future version.\n",
      "Instructions for updating:\n",
      "Use tf.where in 2.0, which has the same broadcast rule as np.where\n"
     ]
    },
    {
     "name": "stdout",
     "output_type": "stream",
     "text": [
      "Train on 60000 samples, validate on 10000 samples\n",
      "Epoch 1/20\n",
      "60000/60000 [==============================] - 6s 93us/step - loss: 0.2436 - acc: 0.9252 - val_loss: 0.1089 - val_acc: 0.9676\n",
      "Epoch 2/20\n",
      "60000/60000 [==============================] - 2s 30us/step - loss: 0.1024 - acc: 0.9690 - val_loss: 0.0825 - val_acc: 0.9755\n",
      "Epoch 3/20\n",
      "60000/60000 [==============================] - 2s 33us/step - loss: 0.0763 - acc: 0.9775 - val_loss: 0.0807 - val_acc: 0.9764\n",
      "Epoch 4/20\n",
      "60000/60000 [==============================] - 2s 30us/step - loss: 0.0601 - acc: 0.9820 - val_loss: 0.0851 - val_acc: 0.9759\n",
      "Epoch 5/20\n",
      "60000/60000 [==============================] - 2s 30us/step - loss: 0.0527 - acc: 0.9842 - val_loss: 0.0755 - val_acc: 0.9797\n",
      "Epoch 6/20\n",
      "60000/60000 [==============================] - 2s 30us/step - loss: 0.0445 - acc: 0.9873 - val_loss: 0.0869 - val_acc: 0.9797\n",
      "Epoch 7/20\n",
      "60000/60000 [==============================] - 2s 30us/step - loss: 0.0394 - acc: 0.9892 - val_loss: 0.0838 - val_acc: 0.9783\n",
      "Epoch 8/20\n",
      "60000/60000 [==============================] - 2s 30us/step - loss: 0.0350 - acc: 0.9895 - val_loss: 0.0803 - val_acc: 0.9815\n",
      "Epoch 9/20\n",
      "60000/60000 [==============================] - 2s 30us/step - loss: 0.0317 - acc: 0.9905 - val_loss: 0.0966 - val_acc: 0.9798\n",
      "Epoch 10/20\n",
      "60000/60000 [==============================] - 2s 30us/step - loss: 0.0297 - acc: 0.9916 - val_loss: 0.0764 - val_acc: 0.9835\n",
      "Epoch 11/20\n",
      "60000/60000 [==============================] - 2s 30us/step - loss: 0.0262 - acc: 0.9928 - val_loss: 0.1054 - val_acc: 0.9810\n",
      "Epoch 12/20\n",
      "60000/60000 [==============================] - 2s 30us/step - loss: 0.0272 - acc: 0.9926 - val_loss: 0.0968 - val_acc: 0.9806\n",
      "Epoch 13/20\n",
      "60000/60000 [==============================] - 2s 30us/step - loss: 0.0249 - acc: 0.9929 - val_loss: 0.1019 - val_acc: 0.9822\n",
      "Epoch 14/20\n",
      "60000/60000 [==============================] - 2s 30us/step - loss: 0.0230 - acc: 0.9932 - val_loss: 0.0962 - val_acc: 0.9827\n",
      "Epoch 15/20\n",
      "60000/60000 [==============================] - 2s 30us/step - loss: 0.0207 - acc: 0.9942 - val_loss: 0.0887 - val_acc: 0.9842\n",
      "Epoch 16/20\n",
      "60000/60000 [==============================] - 2s 30us/step - loss: 0.0213 - acc: 0.9945 - val_loss: 0.0992 - val_acc: 0.9817\n",
      "Epoch 17/20\n",
      "60000/60000 [==============================] - 2s 30us/step - loss: 0.0199 - acc: 0.9945 - val_loss: 0.1034 - val_acc: 0.9833\n",
      "Epoch 18/20\n",
      "60000/60000 [==============================] - 2s 31us/step - loss: 0.0184 - acc: 0.9951 - val_loss: 0.1101 - val_acc: 0.9820\n",
      "Epoch 19/20\n",
      "60000/60000 [==============================] - 2s 31us/step - loss: 0.0183 - acc: 0.9950 - val_loss: 0.1181 - val_acc: 0.9836\n",
      "Epoch 20/20\n",
      "60000/60000 [==============================] - 2s 31us/step - loss: 0.0192 - acc: 0.9949 - val_loss: 0.1070 - val_acc: 0.9844\n"
     ]
    }
   ],
   "source": [
    "history = model.fit(x_train, y_train,  # 画像とラベルデータ\n",
    "                    batch_size=batch_size,\n",
    "                    epochs=epochs,     # エポック数の指定\n",
    "                    verbose=1,         # ログ出力の指定. 0だとログが出ない\n",
    "                    validation_data=(x_test, y_test))"
   ]
  },
  {
   "cell_type": "code",
   "execution_count": 23,
   "metadata": {
    "colab": {
     "base_uri": "https://localhost:8080/",
     "height": 51
    },
    "colab_type": "code",
    "executionInfo": {
     "elapsed": 770,
     "status": "ok",
     "timestamp": 1565565183807,
     "user": {
      "displayName": "あんずまりも",
      "photoUrl": "",
      "userId": "13382162523357820489"
     },
     "user_tz": -540
    },
    "id": "GABekGhk8EEo",
    "outputId": "1c0335a3-4251-4d20-ddeb-5fcc97a0ee92"
   },
   "outputs": [
    {
     "name": "stdout",
     "output_type": "stream",
     "text": [
      "Test loss: 0.10697835002590782\n",
      "Test accuracy: 0.9844\n"
     ]
    }
   ],
   "source": [
    "score = model.evaluate(x_test, y_test, verbose=0)\n",
    "print('Test loss:', score[0])\n",
    "print('Test accuracy:', score[1])"
   ]
  },
  {
   "cell_type": "code",
   "execution_count": 0,
   "metadata": {
    "colab": {},
    "colab_type": "code",
    "id": "cYLwwded9OJS"
   },
   "outputs": [],
   "source": []
  }
 ],
 "metadata": {
  "accelerator": "GPU",
  "colab": {
   "name": "keras_sample_mnist_class.ipynb",
   "provenance": [],
   "version": "0.3.2"
  },
  "kernelspec": {
   "display_name": "Python 3",
   "language": "python",
   "name": "python3"
  },
  "language_info": {
   "codemirror_mode": {
    "name": "ipython",
    "version": 3
   },
   "file_extension": ".py",
   "mimetype": "text/x-python",
   "name": "python",
   "nbconvert_exporter": "python",
   "pygments_lexer": "ipython3",
   "version": "3.7.3"
  }
 },
 "nbformat": 4,
 "nbformat_minor": 1
}
