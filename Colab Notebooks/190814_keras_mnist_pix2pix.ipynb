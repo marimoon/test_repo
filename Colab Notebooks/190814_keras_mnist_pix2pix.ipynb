{
 "cells": [
  {
   "cell_type": "code",
   "execution_count": 1,
   "metadata": {
    "colab": {
     "base_uri": "https://localhost:8080/",
     "height": 51
    },
    "colab_type": "code",
    "executionInfo": {
     "elapsed": 2082,
     "status": "ok",
     "timestamp": 1565790930995,
     "user": {
      "displayName": "あんずまりも",
      "photoUrl": "",
      "userId": "13382162523357820489"
     },
     "user_tz": -540
    },
    "id": "__G6oMIGfTfG",
    "outputId": "17c49669-8271-435f-ddcf-0bc3db8c13ff"
   },
   "outputs": [
    {
     "name": "stdout",
     "output_type": "stream",
     "text": [
      "1.14.0\n",
      "2.2.4-tf\n"
     ]
    }
   ],
   "source": [
    "import tensorflow as tf\n",
    "import tensorflow.keras as keras\n",
    "print(tf.__version__)\n",
    "print(keras.__version__)"
   ]
  },
  {
   "cell_type": "markdown",
   "metadata": {
    "colab_type": "text",
    "id": "VOKpqUBPO_Sx"
   },
   "source": [
    "## GoogleDriveをマウントする。"
   ]
  },
  {
   "cell_type": "code",
   "execution_count": 2,
   "metadata": {
    "colab": {
     "base_uri": "https://localhost:8080/",
     "height": 309
    },
    "colab_type": "code",
    "executionInfo": {
     "elapsed": 35163,
     "status": "ok",
     "timestamp": 1565790964177,
     "user": {
      "displayName": "あんずまりも",
      "photoUrl": "",
      "userId": "13382162523357820489"
     },
     "user_tz": -540
    },
    "id": "5_buWFLj8gMu",
    "outputId": "059791ee-1a05-41f1-dde3-47814a3cd6ca"
   },
   "outputs": [
    {
     "name": "stdout",
     "output_type": "stream",
     "text": [
      "Go to this URL in a browser: https://accounts.google.com/o/oauth2/auth?client_id=947318989803-6bn6qk8qdgf4n4g3pfee6491hc0brc4i.apps.googleusercontent.com&redirect_uri=urn%3Aietf%3Awg%3Aoauth%3A2.0%3Aoob&scope=email%20https%3A%2F%2Fwww.googleapis.com%2Fauth%2Fdocs.test%20https%3A%2F%2Fwww.googleapis.com%2Fauth%2Fdrive%20https%3A%2F%2Fwww.googleapis.com%2Fauth%2Fdrive.photos.readonly%20https%3A%2F%2Fwww.googleapis.com%2Fauth%2Fpeopleapi.readonly&response_type=code\n",
      "\n",
      "Enter your authorization code:\n",
      "··········\n",
      "Mounted at /content/drive\n",
      "\n",
      "<< Display work dir >>\n",
      "file/dir :  mylib\n",
      "file/dir :  test.txt\n",
      "file/dir :  data\n",
      "file/dir :  template.ipynb\n",
      "file/dir :  .ipynb_checkpoints\n",
      "file/dir :  lt6\n",
      "file/dir :  lt7\n",
      "file/dir :  models\n",
      "file/dir :  mnist_cams\n"
     ]
    }
   ],
   "source": [
    "import os\n",
    "if os.name == 'nt':\n",
    "    print('OS is Windows: PASS mount google drive')\n",
    "    g_dir_work = '/Users/mhomm/GoogleDrive/colab/'\n",
    "else:\n",
    "    from google.colab import drive\n",
    "    drive.mount('/content/drive')\n",
    "    g_dir_work = '/content/drive/My Drive/colab/'\n",
    "\n",
    "# check mount point\n",
    "print('\\n<< Display work dir >>')\n",
    "for file in os.listdir(g_dir_work):\n",
    "    print( 'file/dir : ', file)"
   ]
  },
  {
   "cell_type": "markdown",
   "metadata": {
    "colab_type": "text",
    "id": "n9udTg65O_TN"
   },
   "source": [
    "## local Libraryパスを通す。"
   ]
  },
  {
   "cell_type": "code",
   "execution_count": 0,
   "metadata": {
    "colab": {},
    "colab_type": "code",
    "id": "00Hfkgci0ePC"
   },
   "outputs": [],
   "source": [
    "import sys\n",
    "if os.name == 'nt':# windows\n",
    "    lib_path='/Users/mhomm/GoogleDrive/colab/mylib'\n",
    "else:\n",
    "    lib_path='/content/drive/My Drive/colab/mylib/'\n",
    "sys.path.append(lib_path)"
   ]
  },
  {
   "cell_type": "code",
   "execution_count": 4,
   "metadata": {
    "colab": {
     "base_uri": "https://localhost:8080/",
     "height": 34
    },
    "colab_type": "code",
    "executionInfo": {
     "elapsed": 36055,
     "status": "ok",
     "timestamp": 1565790965124,
     "user": {
      "displayName": "あんずまりも",
      "photoUrl": "",
      "userId": "13382162523357820489"
     },
     "user_tz": -540
    },
    "id": "8T41qyssO_Td",
    "outputId": "b3f81ce3-0fad-44c1-9bd4-7b5b6fd3282d"
   },
   "outputs": [
    {
     "name": "stdout",
     "output_type": "stream",
     "text": [
      "myfunc.test\n"
     ]
    }
   ],
   "source": [
    "# check lib path\n",
    "import myfunc\n",
    "myfunc.test()"
   ]
  },
  {
   "cell_type": "markdown",
   "metadata": {
    "colab_type": "text",
    "id": "lobFc_ilO_Tq"
   },
   "source": [
    "以上、テンプレート\n",
    "\n",
    "---"
   ]
  },
  {
   "cell_type": "markdown",
   "metadata": {
    "colab_type": "text",
    "id": "R2qYYcUqO_Tu"
   },
   "source": [
    "### データの前処理"
   ]
  },
  {
   "cell_type": "code",
   "execution_count": 5,
   "metadata": {
    "colab": {
     "base_uri": "https://localhost:8080/",
     "height": 68
    },
    "colab_type": "code",
    "executionInfo": {
     "elapsed": 37148,
     "status": "ok",
     "timestamp": 1565790966254,
     "user": {
      "displayName": "あんずまりも",
      "photoUrl": "",
      "userId": "13382162523357820489"
     },
     "user_tz": -540
    },
    "id": "svzz9BYPO_Tx",
    "outputId": "38b9d9df-0ecd-40f0-929a-083b7f6e25f8"
   },
   "outputs": [
    {
     "name": "stderr",
     "output_type": "stream",
     "text": [
      "Using TensorFlow backend.\n"
     ]
    },
    {
     "name": "stdout",
     "output_type": "stream",
     "text": [
      "Downloading data from https://s3.amazonaws.com/img-datasets/mnist.npz\n",
      "11493376/11490434 [==============================] - 0s 0us/step\n"
     ]
    }
   ],
   "source": [
    "import datasets\n",
    "import tensorflow.keras as keras\n",
    "import numpy as np\n",
    "\n",
    "data = datasets.Dataset_mnist()\n",
    "data.load()\n",
    "data.x_train = data.x_train.reshape(data.x_train.shape[0], data.x_train.shape[1], data.x_train.shape[2], 1) / 255.\n",
    "data.x_val   = data.x_val.reshape(data.x_val.shape[0], data.x_val.shape[1], data.x_val.shape[2], 1)   / 255."
   ]
  },
  {
   "cell_type": "code",
   "execution_count": 6,
   "metadata": {
    "colab": {
     "base_uri": "https://localhost:8080/",
     "height": 85
    },
    "colab_type": "code",
    "executionInfo": {
     "elapsed": 37113,
     "status": "ok",
     "timestamp": 1565790966258,
     "user": {
      "displayName": "あんずまりも",
      "photoUrl": "",
      "userId": "13382162523357820489"
     },
     "user_tz": -540
    },
    "id": "dofB3zV9O_T7",
    "outputId": "4db4a974-f895-4104-d56a-e61966b0c2ac"
   },
   "outputs": [
    {
     "name": "stdout",
     "output_type": "stream",
     "text": [
      "(60000, 28, 28, 1)\n",
      "(60000,)\n",
      "(10000, 28, 28, 1)\n",
      "(10000,)\n"
     ]
    }
   ],
   "source": [
    "data.dbg_check()"
   ]
  },
  {
   "cell_type": "markdown",
   "metadata": {
    "colab_type": "text",
    "id": "Ah2IbDU_O_UI"
   },
   "source": [
    "### 訓練用モデル構築"
   ]
  },
  {
   "cell_type": "code",
   "execution_count": 7,
   "metadata": {
    "colab": {
     "base_uri": "https://localhost:8080/",
     "height": 411
    },
    "colab_type": "code",
    "executionInfo": {
     "elapsed": 38274,
     "status": "ok",
     "timestamp": 1565790967465,
     "user": {
      "displayName": "あんずまりも",
      "photoUrl": "",
      "userId": "13382162523357820489"
     },
     "user_tz": -540
    },
    "id": "j6jLSRLn0hZ_",
    "outputId": "e418c44c-0ec7-41c5-8c5e-42f074cce4c5",
    "scrolled": true
   },
   "outputs": [
    {
     "name": "stderr",
     "output_type": "stream",
     "text": [
      "WARNING: Logging before flag parsing goes to stderr.\n",
      "W0814 13:56:06.696420 139688833701760 deprecation.py:506] From /usr/local/lib/python3.6/dist-packages/tensorflow/python/ops/init_ops.py:1251: calling VarianceScaling.__init__ (from tensorflow.python.ops.init_ops) with dtype is deprecated and will be removed in a future version.\n",
      "Instructions for updating:\n",
      "Call initializer instance with the dtype argument instead of passing it to the constructor\n"
     ]
    },
    {
     "name": "stdout",
     "output_type": "stream",
     "text": [
      "Model: \"model_mnist_pix2pix\"\n",
      "_________________________________________________________________\n",
      "Layer (type)                 Output Shape              Param #   \n",
      "=================================================================\n",
      "imgs (InputLayer)            [(None, 28, 28, 1)]       0         \n",
      "_________________________________________________________________\n",
      "conv2d (Conv2D)              (None, 28, 28, 32)        832       \n",
      "_________________________________________________________________\n",
      "conv2d_1 (Conv2D)            (None, 28, 28, 64)        51264     \n",
      "_________________________________________________________________\n",
      "conv2d_2 (Conv2D)            (None, 28, 28, 32)        51232     \n",
      "_________________________________________________________________\n",
      "conv2d_3 (Conv2D)            (None, 28, 28, 1)         801       \n",
      "=================================================================\n",
      "Total params: 104,129\n",
      "Trainable params: 104,129\n",
      "Non-trainable params: 0\n",
      "_________________________________________________________________\n"
     ]
    }
   ],
   "source": [
    "import models\n",
    "model = models.Model_mnist_pix2pix(b_training=True)\n",
    "model.compile(loss=keras.losses.mean_squared_error,\n",
    "              optimizer=keras.optimizers.Adam())"
   ]
  },
  {
   "cell_type": "markdown",
   "metadata": {
    "colab_type": "text",
    "id": "zEmwUhpbO_Ua"
   },
   "source": [
    "### モデルの最適化"
   ]
  },
  {
   "cell_type": "code",
   "execution_count": 0,
   "metadata": {
    "colab": {},
    "colab_type": "code",
    "id": "yuveA04w0pUo"
   },
   "outputs": [],
   "source": [
    "batch_size = 1000\n",
    "epochs = 10"
   ]
  },
  {
   "cell_type": "code",
   "execution_count": 9,
   "metadata": {
    "colab": {
     "base_uri": "https://localhost:8080/",
     "height": 85
    },
    "colab_type": "code",
    "executionInfo": {
     "elapsed": 38237,
     "status": "ok",
     "timestamp": 1565790967479,
     "user": {
      "displayName": "あんずまりも",
      "photoUrl": "",
      "userId": "13382162523357820489"
     },
     "user_tz": -540
    },
    "id": "2gyLY4OmQhF9",
    "outputId": "684601cc-1f54-4c29-b467-3616aa369da5"
   },
   "outputs": [
    {
     "name": "stdout",
     "output_type": "stream",
     "text": [
      "(60000,)\n",
      "(60000, 28, 28, 1)\n",
      "(10000,)\n",
      "(10000, 28, 28, 1)\n"
     ]
    }
   ],
   "source": [
    "print(data.y_train.shape)\n",
    "print(data.x_train.shape)\n",
    "print(data.y_val.shape)\n",
    "print(data.x_val.shape)"
   ]
  },
  {
   "cell_type": "code",
   "execution_count": 10,
   "metadata": {
    "colab": {
     "base_uri": "https://localhost:8080/",
     "height": 374
    },
    "colab_type": "code",
    "executionInfo": {
     "elapsed": 103435,
     "status": "ok",
     "timestamp": 1565791032713,
     "user": {
      "displayName": "あんずまりも",
      "photoUrl": "",
      "userId": "13382162523357820489"
     },
     "user_tz": -540
    },
    "id": "5Br89tOC7903",
    "outputId": "162ccf96-98d3-4545-9016-9bf2a8c964b2"
   },
   "outputs": [
    {
     "name": "stdout",
     "output_type": "stream",
     "text": [
      "Train on 60000 samples, validate on 10000 samples\n",
      "Epoch 1/10\n",
      "60000/60000 [==============================] - 13s 225us/sample - loss: 0.0361 - val_loss: 0.0031\n",
      "Epoch 2/10\n",
      "60000/60000 [==============================] - 6s 93us/sample - loss: 0.0021 - val_loss: 0.0015\n",
      "Epoch 3/10\n",
      "60000/60000 [==============================] - 6s 94us/sample - loss: 0.0012 - val_loss: 9.6961e-04\n",
      "Epoch 4/10\n",
      "60000/60000 [==============================] - 6s 95us/sample - loss: 0.0011 - val_loss: 8.2571e-04\n",
      "Epoch 5/10\n",
      "60000/60000 [==============================] - 6s 95us/sample - loss: 7.4639e-04 - val_loss: 6.6903e-04\n",
      "Epoch 6/10\n",
      "60000/60000 [==============================] - 6s 96us/sample - loss: 6.2251e-04 - val_loss: 5.6919e-04\n",
      "Epoch 7/10\n",
      "60000/60000 [==============================] - 6s 97us/sample - loss: 5.4770e-04 - val_loss: 6.9409e-04\n",
      "Epoch 8/10\n",
      "60000/60000 [==============================] - 6s 97us/sample - loss: 4.9674e-04 - val_loss: 4.5029e-04\n",
      "Epoch 9/10\n",
      "60000/60000 [==============================] - 6s 97us/sample - loss: 4.6011e-04 - val_loss: 6.5034e-04\n",
      "Epoch 10/10\n",
      "60000/60000 [==============================] - 6s 97us/sample - loss: 4.3537e-04 - val_loss: 3.8695e-04\n"
     ]
    }
   ],
   "source": [
    "history = model.fit(data.x_train, data.x_train,  # 入出力同じ画像\n",
    "                    batch_size=batch_size,\n",
    "                    epochs=epochs,     # エポック数の指定\n",
    "                    verbose=1,         # ログ出力の指定. 0だとログが出ない\n",
    "                    validation_data=(data.x_val, data.x_val))"
   ]
  },
  {
   "cell_type": "markdown",
   "metadata": {
    "colab_type": "text",
    "id": "o9q360tDO_VD"
   },
   "source": [
    "### モデルの保存"
   ]
  },
  {
   "cell_type": "code",
   "execution_count": 11,
   "metadata": {
    "colab": {
     "base_uri": "https://localhost:8080/",
     "height": 34
    },
    "colab_type": "code",
    "executionInfo": {
     "elapsed": 103398,
     "status": "ok",
     "timestamp": 1565791032717,
     "user": {
      "displayName": "あんずまりも",
      "photoUrl": "",
      "userId": "13382162523357820489"
     },
     "user_tz": -540
    },
    "id": "cYLwwded9OJS",
    "outputId": "8ed96456-6c86-4ed3-86f9-62036e9f37a9"
   },
   "outputs": [
    {
     "name": "stdout",
     "output_type": "stream",
     "text": [
      "/content/drive/My Drive/colab//models/mnist_pix2pix/20190814_135712/\n"
     ]
    }
   ],
   "source": [
    "import datetime\n",
    "dt_now = datetime.datetime.now()\n",
    "\n",
    "save_dir = '{0}/models/mnist_pix2pix/{1}/'.format(g_dir_work, dt_now.strftime('%Y%m%d_%H%M%S') )\n",
    "print(save_dir)\n",
    "if not os.path.exists(save_dir):\n",
    "    os.makedirs(save_dir)\n",
    "\n",
    "model.save( save_dir + '/model.h5' )"
   ]
  },
  {
   "cell_type": "code",
   "execution_count": 0,
   "metadata": {
    "colab": {},
    "colab_type": "code",
    "id": "CEQH2zx5f-Tf"
   },
   "outputs": [],
   "source": [
    "del model"
   ]
  },
  {
   "cell_type": "markdown",
   "metadata": {
    "colab_type": "text",
    "id": "e-Y-n67KO_VU"
   },
   "source": [
    "---"
   ]
  },
  {
   "cell_type": "markdown",
   "metadata": {
    "colab_type": "text",
    "id": "ng0f8-fLO_Vb"
   },
   "source": [
    "### 推定モデルの読み込み"
   ]
  },
  {
   "cell_type": "code",
   "execution_count": 13,
   "metadata": {
    "colab": {
     "base_uri": "https://localhost:8080/",
     "height": 323
    },
    "colab_type": "code",
    "executionInfo": {
     "elapsed": 103362,
     "status": "ok",
     "timestamp": 1565791032732,
     "user": {
      "displayName": "あんずまりも",
      "photoUrl": "",
      "userId": "13382162523357820489"
     },
     "user_tz": -540
    },
    "id": "E5sYo4hgO_Vh",
    "outputId": "5e6c07df-0d8a-4bce-e031-418ca93d9fdd"
   },
   "outputs": [
    {
     "name": "stdout",
     "output_type": "stream",
     "text": [
      "Model: \"model_mnist_pix2pix_1\"\n",
      "_________________________________________________________________\n",
      "Layer (type)                 Output Shape              Param #   \n",
      "=================================================================\n",
      "imgs (InputLayer)            [(None, 28, 28, 1)]       0         \n",
      "_________________________________________________________________\n",
      "conv2d_4 (Conv2D)            (None, 28, 28, 32)        832       \n",
      "_________________________________________________________________\n",
      "conv2d_5 (Conv2D)            (None, 28, 28, 64)        51264     \n",
      "_________________________________________________________________\n",
      "conv2d_6 (Conv2D)            (None, 28, 28, 32)        51232     \n",
      "_________________________________________________________________\n",
      "conv2d_7 (Conv2D)            (None, 28, 28, 1)         801       \n",
      "=================================================================\n",
      "Total params: 104,129\n",
      "Trainable params: 104,129\n",
      "Non-trainable params: 0\n",
      "_________________________________________________________________\n"
     ]
    }
   ],
   "source": [
    "model_pred = models.Model_mnist_pix2pix(b_training=False, model_path=save_dir + '/model.h5')"
   ]
  },
  {
   "cell_type": "code",
   "execution_count": 0,
   "metadata": {
    "colab": {},
    "colab_type": "code",
    "id": "m8yWa5VWQbwJ"
   },
   "outputs": [],
   "source": [
    "from PIL import Image\n",
    "def save_img(img, file):\n",
    "    img[ img <   0 ] = 0\n",
    "    img[ img > 255 ] = 255\n",
    "    if os.path.exists(os.path.dirname(file)) is False:\n",
    "        os.makedirs( os.path.dirname(file) )\n",
    "    Image.fromarray(img.astype(np.uint8)).save(file)"
   ]
  },
  {
   "cell_type": "code",
   "execution_count": 0,
   "metadata": {
    "colab": {},
    "colab_type": "code",
    "id": "2cl3-whKQaU1"
   },
   "outputs": [],
   "source": [
    "for i in range(20):\n",
    "    x = data.x_val[i]\n",
    "    result = model_pred.predict( x.reshape(1,28,28,1) )\n",
    "\n",
    "    shape = (x.shape[0], x.shape[1])\n",
    "    save_img( x.reshape(shape)*255, g_dir_work + 'mnist_pix2pix/{0:03d}_input.png'.format(i) )\n",
    "    save_img( result[0].reshape(shape)*255, g_dir_work + 'mnist_pix2pix/{0:03d}_pred.png'.format(i) )"
   ]
  },
  {
   "cell_type": "markdown",
   "metadata": {
    "colab_type": "text",
    "id": "cEkrM75haz4s"
   },
   "source": []
  },
  {
   "cell_type": "code",
   "execution_count": 0,
   "metadata": {
    "colab": {},
    "colab_type": "code",
    "id": "t4J8VW7VaoV5"
   },
   "outputs": [],
   "source": []
  }
 ],
 "metadata": {
  "accelerator": "GPU",
  "colab": {
   "collapsed_sections": [],
   "name": "190814_keras_mnist_pix2pix.ipynb",
   "provenance": [],
   "version": "0.3.2"
  },
  "kernelspec": {
   "display_name": "Python 3",
   "language": "python",
   "name": "python3"
  },
  "language_info": {
   "codemirror_mode": {
    "name": "ipython",
    "version": 3
   },
   "file_extension": ".py",
   "mimetype": "text/x-python",
   "name": "python",
   "nbconvert_exporter": "python",
   "pygments_lexer": "ipython3",
   "version": "3.7.3"
  }
 },
 "nbformat": 4,
 "nbformat_minor": 1
}
