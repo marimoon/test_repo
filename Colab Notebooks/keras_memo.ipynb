{
 "cells": [
  {
   "cell_type": "markdown",
   "metadata": {},
   "source": [
    "よく見る参照リンク  \n",
    "https://qiita.com/ak11/items/67118e11b756b0ee83a5"
   ]
  },
  {
   "cell_type": "markdown",
   "metadata": {},
   "source": [
    "---"
   ]
  },
  {
   "cell_type": "markdown",
   "metadata": {},
   "source": [
    "Jupyter Notebookを単体テストやマニュアル作成ツールとして使う  \n",
    "https://qiita.com/pashango2/items/942e0d9cf10b9e6e96e1"
   ]
  },
  {
   "cell_type": "markdown",
   "metadata": {},
   "source": [
    "---"
   ]
  },
  {
   "cell_type": "markdown",
   "metadata": {},
   "source": [
    "### t-SNEをkerasで作成。\n",
    "fit_generatorの使い方がよくわかる。  \n",
    "\n",
    "Parametric t-SNEの理論とKerasによる実装\n",
    "https://qiita.com/koshian2/items/7aab45dafbdbd959d8fc"
   ]
  },
  {
   "cell_type": "markdown",
   "metadata": {},
   "source": [
    "### K.reshapeの動作"
   ]
  },
  {
   "cell_type": "code",
   "execution_count": 2,
   "metadata": {},
   "outputs": [],
   "source": [
    "import numpy as np\n",
    "import tensorflow as tf\n",
    "try:\n",
    "    import tensorflow.keras as keras\n",
    "    from tensorflow.keras import backend as K\n",
    "except:\n",
    "    import keras\n",
    "    from keras import backend as K"
   ]
  },
  {
   "cell_type": "code",
   "execution_count": 11,
   "metadata": {},
   "outputs": [],
   "source": [
    "img = np.zeros((3,2,5,5,6))\n",
    "for i in range(3):\n",
    "    for j in range(2):\n",
    "        for k in range(6):\n",
    "            img[i,j,:,:, k] = i*6*2 +j*6 +k+1"
   ]
  },
  {
   "cell_type": "code",
   "execution_count": 12,
   "metadata": {},
   "outputs": [
    {
     "name": "stdout",
     "output_type": "stream",
     "text": [
      "[1. 2. 3. 4. 5. 6.]\n",
      "[ 7.  8.  9. 10. 11. 12.]\n",
      "[13. 14. 15. 16. 17. 18.]\n",
      "[19. 20. 21. 22. 23. 24.]\n",
      "[25. 26. 27. 28. 29. 30.]\n",
      "[31. 32. 33. 34. 35. 36.]\n"
     ]
    }
   ],
   "source": [
    "print(img[0,0,0,0,:])\n",
    "print(img[0,1,0,0,:])\n",
    "print(img[1,0,0,0,:])\n",
    "print(img[1,1,0,0,:])\n",
    "print(img[2,0,0,0,:])\n",
    "print(img[2,1,0,0,:])"
   ]
  },
  {
   "cell_type": "code",
   "execution_count": 16,
   "metadata": {},
   "outputs": [],
   "source": [
    "t_img  = K.variable(value=img)\n",
    "t_msk  = K.variable(value=[0,1,1,1,1,1])\n",
    "t_img2 = t_img * t_msk"
   ]
  },
  {
   "cell_type": "code",
   "execution_count": 17,
   "metadata": {},
   "outputs": [],
   "source": [
    "v_img2 = K.get_value(t_img2)"
   ]
  },
  {
   "cell_type": "code",
   "execution_count": 18,
   "metadata": {},
   "outputs": [
    {
     "name": "stdout",
     "output_type": "stream",
     "text": [
      "[0. 2. 3. 4. 5. 6.]\n",
      "[ 0.  8.  9. 10. 11. 12.]\n",
      "[ 0. 14. 15. 16. 17. 18.]\n",
      "[ 0. 20. 21. 22. 23. 24.]\n",
      "[ 0. 26. 27. 28. 29. 30.]\n",
      "[ 0. 32. 33. 34. 35. 36.]\n"
     ]
    }
   ],
   "source": [
    "print(v_img2[0,0,0,0,:])\n",
    "print(v_img2[0,1,0,0,:])\n",
    "print(v_img2[1,0,0,0,:])\n",
    "print(v_img2[1,1,0,0,:])\n",
    "print(v_img2[2,0,0,0,:])\n",
    "print(v_img2[2,1,0,0,:])"
   ]
  },
  {
   "cell_type": "code",
   "execution_count": 19,
   "metadata": {},
   "outputs": [
    {
     "name": "stdout",
     "output_type": "stream",
     "text": [
      "[0. 2. 3. 4. 5. 6.]\n",
      "[ 0.  8.  9. 10. 11. 12.]\n",
      "[ 0. 14. 15. 16. 17. 18.]\n",
      "[ 0. 20. 21. 22. 23. 24.]\n",
      "[ 0. 26. 27. 28. 29. 30.]\n",
      "[ 0. 32. 33. 34. 35. 36.]\n"
     ]
    }
   ],
   "source": [
    "t_img3 = K.reshape( t_img, (6,5,5,6) )\n",
    "t_img4 = t_img * t_msk\n",
    "v_img4 = K.get_value(t_img4)\n",
    "\n",
    "print(v_img4[0,0,0,0,:])\n",
    "print(v_img4[0,1,0,0,:])\n",
    "print(v_img4[1,0,0,0,:])\n",
    "print(v_img4[1,1,0,0,:])\n",
    "print(v_img4[2,0,0,0,:])\n",
    "print(v_img4[2,1,0,0,:])"
   ]
  },
  {
   "cell_type": "code",
   "execution_count": null,
   "metadata": {},
   "outputs": [],
   "source": []
  }
 ],
 "metadata": {
  "kernelspec": {
   "display_name": "Python 3",
   "language": "python",
   "name": "python3"
  },
  "language_info": {
   "codemirror_mode": {
    "name": "ipython",
    "version": 3
   },
   "file_extension": ".py",
   "mimetype": "text/x-python",
   "name": "python",
   "nbconvert_exporter": "python",
   "pygments_lexer": "ipython3",
   "version": "3.7.3"
  }
 },
 "nbformat": 4,
 "nbformat_minor": 2
}
