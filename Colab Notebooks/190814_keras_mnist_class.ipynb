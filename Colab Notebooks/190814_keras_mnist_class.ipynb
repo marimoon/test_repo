{
 "cells": [
  {
   "cell_type": "code",
   "execution_count": 0,
   "metadata": {
    "colab": {
     "base_uri": "https://localhost:8080/",
     "height": 51
    },
    "colab_type": "code",
    "executionInfo": {
     "elapsed": 2452,
     "status": "ok",
     "timestamp": 1565776126170,
     "user": {
      "displayName": "あんずまりも",
      "photoUrl": "",
      "userId": "13382162523357820489"
     },
     "user_tz": -540
    },
    "id": "__G6oMIGfTfG",
    "outputId": "68120eb5-cfae-420d-8371-9ddf7b30e25c"
   },
   "outputs": [
    {
     "name": "stdout",
     "output_type": "stream",
     "text": [
      "1.14.0\n",
      "2.2.4-tf\n"
     ]
    }
   ],
   "source": [
    "import tensorflow as tf\n",
    "import tensorflow.keras as keras\n",
    "print(tf.__version__)\n",
    "print(keras.__version__)"
   ]
  },
  {
   "cell_type": "markdown",
   "metadata": {
    "colab_type": "text",
    "id": "VOKpqUBPO_Sx"
   },
   "source": [
    "## GoogleDriveをマウントする。"
   ]
  },
  {
   "cell_type": "code",
   "execution_count": 2,
   "metadata": {
    "colab": {
     "base_uri": "https://localhost:8080/",
     "height": 292
    },
    "colab_type": "code",
    "executionInfo": {
     "elapsed": 34936,
     "status": "ok",
     "timestamp": 1565776158733,
     "user": {
      "displayName": "あんずまりも",
      "photoUrl": "",
      "userId": "13382162523357820489"
     },
     "user_tz": -540
    },
    "id": "5_buWFLj8gMu",
    "outputId": "2dab0dcf-985a-4053-e44e-62857180650c"
   },
   "outputs": [
    {
     "name": "stdout",
     "output_type": "stream",
     "text": [
      "OS is Windows: PASS mount google drive\n",
      "\n",
      "<< Display work dir >>\n",
      "file/dir :  .ipynb_checkpoints\n",
      "file/dir :  data\n",
      "file/dir :  mnist_cams\n",
      "file/dir :  mnist_pix2pix\n",
      "file/dir :  models\n",
      "file/dir :  mylib\n",
      "file/dir :  template.ipynb\n",
      "file/dir :  test.txt\n",
      "file/dir :  tmp\n"
     ]
    }
   ],
   "source": [
    "import os\n",
    "if os.name == 'nt':\n",
    "    print('OS is Windows: PASS mount google drive')\n",
    "    g_dir_work = '../colab/'\n",
    "else:\n",
    "    from google.colab import drive\n",
    "    drive.mount('/content/drive')\n",
    "    g_dir_work = '/content/drive/My Drive/colab/'\n",
    "\n",
    "# check mount point\n",
    "print('\\n<< Display work dir >>')\n",
    "for file in os.listdir(g_dir_work):\n",
    "    print( 'file/dir : ', file)"
   ]
  },
  {
   "cell_type": "markdown",
   "metadata": {
    "colab_type": "text",
    "id": "n9udTg65O_TN"
   },
   "source": [
    "## local Libraryパスを通す。"
   ]
  },
  {
   "cell_type": "code",
   "execution_count": 3,
   "metadata": {
    "colab": {},
    "colab_type": "code",
    "id": "00Hfkgci0ePC"
   },
   "outputs": [],
   "source": [
    "import sys\n",
    "if os.name == 'nt':# windows\n",
    "    lib_path='../colab/mylib'\n",
    "else:\n",
    "    print(os.getcwd())\n",
    "    lib_path='/content/drive/My Drive/colab/mylib/'\n",
    "sys.path.append(lib_path)"
   ]
  },
  {
   "cell_type": "code",
   "execution_count": 4,
   "metadata": {
    "colab": {
     "base_uri": "https://localhost:8080/",
     "height": 34
    },
    "colab_type": "code",
    "executionInfo": {
     "elapsed": 35326,
     "status": "ok",
     "timestamp": 1565776159320,
     "user": {
      "displayName": "あんずまりも",
      "photoUrl": "",
      "userId": "13382162523357820489"
     },
     "user_tz": -540
    },
    "id": "8T41qyssO_Td",
    "outputId": "c8423152-f6f2-47a0-ad76-0d8cc4d4d72e"
   },
   "outputs": [
    {
     "name": "stdout",
     "output_type": "stream",
     "text": [
      "myfunc.test\n"
     ]
    }
   ],
   "source": [
    "# check lib path\n",
    "import myfunc\n",
    "myfunc.test()"
   ]
  },
  {
   "cell_type": "markdown",
   "metadata": {
    "colab_type": "text",
    "id": "lobFc_ilO_Tq"
   },
   "source": [
    "以上、テンプレート\n",
    "\n",
    "---"
   ]
  },
  {
   "cell_type": "markdown",
   "metadata": {
    "colab_type": "text",
    "id": "R2qYYcUqO_Tu"
   },
   "source": [
    "### データの前処理"
   ]
  },
  {
   "cell_type": "code",
   "execution_count": 0,
   "metadata": {
    "colab": {
     "base_uri": "https://localhost:8080/",
     "height": 68
    },
    "colab_type": "code",
    "executionInfo": {
     "elapsed": 52071,
     "status": "ok",
     "timestamp": 1565776176141,
     "user": {
      "displayName": "あんずまりも",
      "photoUrl": "",
      "userId": "13382162523357820489"
     },
     "user_tz": -540
    },
    "id": "svzz9BYPO_Tx",
    "outputId": "c6f341b1-33fd-4bdc-9f49-eef26c5cb143"
   },
   "outputs": [
    {
     "name": "stderr",
     "output_type": "stream",
     "text": [
      "Using TensorFlow backend.\n"
     ]
    },
    {
     "name": "stdout",
     "output_type": "stream",
     "text": [
      "Downloading data from https://s3.amazonaws.com/img-datasets/mnist.npz\n",
      "11493376/11490434 [==============================] - 16s 1us/step\n"
     ]
    }
   ],
   "source": [
    "import datasets\n",
    "\n",
    "data = datasets.Dataset_mnist()\n",
    "data.load()\n",
    "data.x_train = data.x_train.reshape(data.x_train.shape[0], data.x_train.shape[1], data.x_train.shape[2], 1) / 255.\n",
    "data.x_val   = data.x_val.reshape(data.x_val.shape[0], data.x_val.shape[1], data.x_val.shape[2], 1)   / 255.\n",
    "\n",
    "import tensorflow.keras as keras\n",
    "import numpy as np\n",
    "num_classes = 10\n",
    "data.y_train = keras.utils.to_categorical(data.y_train.astype(np.int8), num_classes)\n",
    "data.y_val   = keras.utils.to_categorical(data.y_val.astype(np.int8), num_classes)"
   ]
  },
  {
   "cell_type": "code",
   "execution_count": 0,
   "metadata": {
    "colab": {
     "base_uri": "https://localhost:8080/",
     "height": 85
    },
    "colab_type": "code",
    "executionInfo": {
     "elapsed": 52028,
     "status": "ok",
     "timestamp": 1565776176145,
     "user": {
      "displayName": "あんずまりも",
      "photoUrl": "",
      "userId": "13382162523357820489"
     },
     "user_tz": -540
    },
    "id": "dofB3zV9O_T7",
    "outputId": "96b8aae3-6fbe-4379-9ecb-059ccb4a3ba7"
   },
   "outputs": [
    {
     "name": "stdout",
     "output_type": "stream",
     "text": [
      "(60000, 28, 28, 1)\n",
      "(60000, 10)\n",
      "(10000, 28, 28, 1)\n",
      "(10000, 10)\n"
     ]
    }
   ],
   "source": [
    "data.dbg_check()"
   ]
  },
  {
   "cell_type": "markdown",
   "metadata": {
    "colab_type": "text",
    "id": "Ah2IbDU_O_UI"
   },
   "source": [
    "### 訓練用モデル構築"
   ]
  },
  {
   "cell_type": "code",
   "execution_count": 5,
   "metadata": {
    "colab": {
     "base_uri": "https://localhost:8080/",
     "height": 700
    },
    "colab_type": "code",
    "executionInfo": {
     "elapsed": 53452,
     "status": "ok",
     "timestamp": 1565776177626,
     "user": {
      "displayName": "あんずまりも",
      "photoUrl": "",
      "userId": "13382162523357820489"
     },
     "user_tz": -540
    },
    "id": "j6jLSRLn0hZ_",
    "outputId": "273dd901-5365-4ed7-9682-5fe6b7ce32fe",
    "scrolled": true
   },
   "outputs": [
    {
     "name": "stdout",
     "output_type": "stream",
     "text": [
      "WARNING:tensorflow:From C:\\Users\\mhomm\\Anaconda3\\lib\\site-packages\\tensorflow\\python\\ops\\resource_variable_ops.py:435: colocate_with (from tensorflow.python.framework.ops) is deprecated and will be removed in a future version.\n",
      "Instructions for updating:\n",
      "Colocations handled automatically by placer.\n",
      "WARNING:tensorflow:From C:\\Users\\mhomm\\Anaconda3\\lib\\site-packages\\tensorflow\\python\\keras\\layers\\core.py:143: calling dropout (from tensorflow.python.ops.nn_ops) with keep_prob is deprecated and will be removed in a future version.\n",
      "Instructions for updating:\n",
      "Please use `rate` instead of `keep_prob`. Rate should be set to `rate = 1 - keep_prob`.\n",
      "WARNING:tensorflow:From C:\\Users\\mhomm\\Anaconda3\\lib\\site-packages\\tensorflow\\python\\ops\\math_ops.py:3066: to_int32 (from tensorflow.python.ops.math_ops) is deprecated and will be removed in a future version.\n",
      "Instructions for updating:\n",
      "Use tf.cast instead.\n",
      "_________________________________________________________________\n",
      "Layer (type)                 Output Shape              Param #   \n",
      "=================================================================\n",
      "imgs (InputLayer)            (None, 28, 28, 1)         0         \n",
      "_________________________________________________________________\n",
      "conv2d (Conv2D)              (None, 28, 28, 32)        320       \n",
      "_________________________________________________________________\n",
      "max_pooling2d (MaxPooling2D) (None, 14, 14, 32)        0         \n",
      "_________________________________________________________________\n",
      "conv2d_1 (Conv2D)            (None, 12, 12, 64)        18496     \n",
      "_________________________________________________________________\n",
      "max_pooling2d_1 (MaxPooling2 (None, 6, 6, 64)          0         \n",
      "_________________________________________________________________\n",
      "conv2d_2 (Conv2D)            (None, 4, 4, 128)         73856     \n",
      "_________________________________________________________________\n",
      "conv2d_3 (Conv2D)            (None, 2, 2, 128)         147584    \n",
      "_________________________________________________________________\n",
      "max_pooling2d_2 (MaxPooling2 (None, 1, 1, 128)         0         \n",
      "_________________________________________________________________\n",
      "flatten (Flatten)            (None, 128)               0         \n",
      "_________________________________________________________________\n",
      "dense (Dense)                (None, 64)                8256      \n",
      "_________________________________________________________________\n",
      "dropout (Dropout)            (None, 64)                0         \n",
      "_________________________________________________________________\n",
      "dense_1 (Dense)              (None, 10)                650       \n",
      "_________________________________________________________________\n",
      "activation (Activation)      (None, 10)                0         \n",
      "=================================================================\n",
      "Total params: 249,162\n",
      "Trainable params: 249,162\n",
      "Non-trainable params: 0\n",
      "_________________________________________________________________\n"
     ]
    },
    {
     "ename": "NameError",
     "evalue": "name 'keras' is not defined",
     "output_type": "error",
     "traceback": [
      "\u001b[1;31m---------------------------------------------------------------------------\u001b[0m",
      "\u001b[1;31mNameError\u001b[0m                                 Traceback (most recent call last)",
      "\u001b[1;32m<ipython-input-5-fb58089141ac>\u001b[0m in \u001b[0;36m<module>\u001b[1;34m\u001b[0m\n\u001b[0;32m      1\u001b[0m \u001b[1;32mimport\u001b[0m \u001b[0mmodels\u001b[0m\u001b[1;33m\u001b[0m\u001b[1;33m\u001b[0m\u001b[0m\n\u001b[0;32m      2\u001b[0m \u001b[0mmodel\u001b[0m \u001b[1;33m=\u001b[0m \u001b[0mmodels\u001b[0m\u001b[1;33m.\u001b[0m\u001b[0mModel_mnist_gradcam\u001b[0m\u001b[1;33m(\u001b[0m\u001b[0mb_training\u001b[0m\u001b[1;33m=\u001b[0m\u001b[1;32mTrue\u001b[0m\u001b[1;33m)\u001b[0m\u001b[1;33m\u001b[0m\u001b[1;33m\u001b[0m\u001b[0m\n\u001b[1;32m----> 3\u001b[1;33m model.compile(loss=keras.losses.categorical_crossentropy,\n\u001b[0m\u001b[0;32m      4\u001b[0m               \u001b[0moptimizer\u001b[0m\u001b[1;33m=\u001b[0m\u001b[0mkeras\u001b[0m\u001b[1;33m.\u001b[0m\u001b[0moptimizers\u001b[0m\u001b[1;33m.\u001b[0m\u001b[0mAdam\u001b[0m\u001b[1;33m(\u001b[0m\u001b[1;33m)\u001b[0m\u001b[1;33m,\u001b[0m\u001b[1;33m\u001b[0m\u001b[1;33m\u001b[0m\u001b[0m\n\u001b[0;32m      5\u001b[0m               metrics=['accuracy'])\n",
      "\u001b[1;31mNameError\u001b[0m: name 'keras' is not defined"
     ]
    }
   ],
   "source": [
    "import models\n",
    "model = models.Model_mnist_gradcam(b_training=True)\n",
    "model.compile(loss=keras.losses.categorical_crossentropy,\n",
    "              optimizer=keras.optimizers.Adam(),\n",
    "              metrics=['accuracy'])"
   ]
  },
  {
   "cell_type": "markdown",
   "metadata": {
    "colab_type": "text",
    "id": "zEmwUhpbO_Ua"
   },
   "source": [
    "### モデルの最適化"
   ]
  },
  {
   "cell_type": "code",
   "execution_count": 0,
   "metadata": {
    "colab": {},
    "colab_type": "code",
    "id": "yuveA04w0pUo"
   },
   "outputs": [],
   "source": [
    "batch_size = 1000\n",
    "epochs = 10"
   ]
  },
  {
   "cell_type": "code",
   "execution_count": 0,
   "metadata": {
    "colab": {
     "base_uri": "https://localhost:8080/",
     "height": 85
    },
    "colab_type": "code",
    "executionInfo": {
     "elapsed": 53386,
     "status": "ok",
     "timestamp": 1565776177646,
     "user": {
      "displayName": "あんずまりも",
      "photoUrl": "",
      "userId": "13382162523357820489"
     },
     "user_tz": -540
    },
    "id": "2gyLY4OmQhF9",
    "outputId": "6433c1b4-c3dd-4af2-84e9-1d8f43a9bb80"
   },
   "outputs": [
    {
     "name": "stdout",
     "output_type": "stream",
     "text": [
      "(60000, 10)\n",
      "(60000, 28, 28, 1)\n",
      "(10000, 10)\n",
      "(10000, 28, 28, 1)\n"
     ]
    }
   ],
   "source": [
    "print(data.y_train.shape)\n",
    "print(data.x_train.shape)\n",
    "print(data.y_val.shape)\n",
    "print(data.x_val.shape)"
   ]
  },
  {
   "cell_type": "code",
   "execution_count": 0,
   "metadata": {
    "colab": {
     "base_uri": "https://localhost:8080/",
     "height": 374
    },
    "colab_type": "code",
    "executionInfo": {
     "elapsed": 92520,
     "status": "ok",
     "timestamp": 1565776216822,
     "user": {
      "displayName": "あんずまりも",
      "photoUrl": "",
      "userId": "13382162523357820489"
     },
     "user_tz": -540
    },
    "id": "5Br89tOC7903",
    "outputId": "e430fae9-3b34-4769-824c-75dd1068caba"
   },
   "outputs": [
    {
     "name": "stdout",
     "output_type": "stream",
     "text": [
      "Train on 60000 samples, validate on 10000 samples\n",
      "Epoch 1/10\n",
      "60000/60000 [==============================] - 7s 112us/sample - loss: 0.9892 - acc: 0.6803 - val_loss: 0.1861 - val_acc: 0.9491\n",
      "Epoch 2/10\n",
      "60000/60000 [==============================] - 3s 54us/sample - loss: 0.2790 - acc: 0.9178 - val_loss: 0.0966 - val_acc: 0.9718\n",
      "Epoch 3/10\n",
      "60000/60000 [==============================] - 3s 55us/sample - loss: 0.1663 - acc: 0.9517 - val_loss: 0.0666 - val_acc: 0.9793\n",
      "Epoch 4/10\n",
      "60000/60000 [==============================] - 3s 55us/sample - loss: 0.1250 - acc: 0.9657 - val_loss: 0.0576 - val_acc: 0.9828\n",
      "Epoch 5/10\n",
      "60000/60000 [==============================] - 3s 55us/sample - loss: 0.1024 - acc: 0.9714 - val_loss: 0.0493 - val_acc: 0.9838\n",
      "Epoch 6/10\n",
      "60000/60000 [==============================] - 3s 55us/sample - loss: 0.0840 - acc: 0.9767 - val_loss: 0.0364 - val_acc: 0.9883\n",
      "Epoch 7/10\n",
      "60000/60000 [==============================] - 3s 54us/sample - loss: 0.0758 - acc: 0.9793 - val_loss: 0.0352 - val_acc: 0.9879\n",
      "Epoch 8/10\n",
      "60000/60000 [==============================] - 3s 55us/sample - loss: 0.0661 - acc: 0.9820 - val_loss: 0.0400 - val_acc: 0.9865\n",
      "Epoch 9/10\n",
      "60000/60000 [==============================] - 3s 54us/sample - loss: 0.0549 - acc: 0.9851 - val_loss: 0.0292 - val_acc: 0.9894\n",
      "Epoch 10/10\n",
      "60000/60000 [==============================] - 3s 56us/sample - loss: 0.0534 - acc: 0.9851 - val_loss: 0.0319 - val_acc: 0.9890\n"
     ]
    }
   ],
   "source": [
    "history = model.fit(data.x_train, data.y_train,  # 画像とラベルデータ\n",
    "                    batch_size=batch_size,\n",
    "                    epochs=epochs,     # エポック数の指定\n",
    "                    verbose=1,         # ログ出力の指定. 0だとログが出ない\n",
    "                    validation_data=(data.x_val, data.y_val))"
   ]
  },
  {
   "cell_type": "code",
   "execution_count": 0,
   "metadata": {
    "colab": {
     "base_uri": "https://localhost:8080/",
     "height": 51
    },
    "colab_type": "code",
    "executionInfo": {
     "elapsed": 94102,
     "status": "ok",
     "timestamp": 1565776218444,
     "user": {
      "displayName": "あんずまりも",
      "photoUrl": "",
      "userId": "13382162523357820489"
     },
     "user_tz": -540
    },
    "id": "GABekGhk8EEo",
    "outputId": "0ed5d274-71e8-420f-d58b-c822fcd4ffa3"
   },
   "outputs": [
    {
     "name": "stdout",
     "output_type": "stream",
     "text": [
      "Test loss: 0.031874676238253595\n",
      "Test accuracy: 0.989\n"
     ]
    }
   ],
   "source": [
    "score = model.evaluate(data.x_val, data.y_val, verbose=0)\n",
    "print('Test loss:', score[0])\n",
    "print('Test accuracy:', score[1])"
   ]
  },
  {
   "cell_type": "markdown",
   "metadata": {
    "colab_type": "text",
    "id": "o9q360tDO_VD"
   },
   "source": [
    "### モデルの保存"
   ]
  },
  {
   "cell_type": "code",
   "execution_count": 0,
   "metadata": {
    "colab": {
     "base_uri": "https://localhost:8080/",
     "height": 34
    },
    "colab_type": "code",
    "executionInfo": {
     "elapsed": 94476,
     "status": "ok",
     "timestamp": 1565776218855,
     "user": {
      "displayName": "あんずまりも",
      "photoUrl": "",
      "userId": "13382162523357820489"
     },
     "user_tz": -540
    },
    "id": "cYLwwded9OJS",
    "outputId": "21a395fa-1532-4e1a-b319-56268c9e3c5d"
   },
   "outputs": [
    {
     "name": "stdout",
     "output_type": "stream",
     "text": [
      "/content/drive/My Drive/colab//models/mnist_gradcam/20190814_095018/\n"
     ]
    }
   ],
   "source": [
    "import datetime\n",
    "dt_now = datetime.datetime.now()\n",
    "\n",
    "save_dir = '{0}/models/mnist_gradcam/{1}/'.format(g_dir_work, dt_now.strftime('%Y%m%d_%H%M%S') )\n",
    "print(save_dir)\n",
    "if not os.path.exists(save_dir):\n",
    "    os.makedirs(save_dir)\n",
    "\n",
    "model.save( save_dir + '/model.h5' )"
   ]
  },
  {
   "cell_type": "code",
   "execution_count": 0,
   "metadata": {
    "colab": {},
    "colab_type": "code",
    "id": "CEQH2zx5f-Tf"
   },
   "outputs": [],
   "source": [
    "del model"
   ]
  },
  {
   "cell_type": "markdown",
   "metadata": {
    "colab_type": "text",
    "id": "e-Y-n67KO_VU"
   },
   "source": [
    "---"
   ]
  },
  {
   "cell_type": "markdown",
   "metadata": {
    "colab_type": "text",
    "id": "ng0f8-fLO_Vb"
   },
   "source": [
    "### 推定モデルの読み込み"
   ]
  },
  {
   "cell_type": "code",
   "execution_count": 0,
   "metadata": {
    "colab": {
     "base_uri": "https://localhost:8080/",
     "height": 816
    },
    "colab_type": "code",
    "executionInfo": {
     "elapsed": 94418,
     "status": "ok",
     "timestamp": 1565776218861,
     "user": {
      "displayName": "あんずまりも",
      "photoUrl": "",
      "userId": "13382162523357820489"
     },
     "user_tz": -540
    },
    "id": "E5sYo4hgO_Vh",
    "outputId": "1e71aba7-7eb6-440f-c018-170fb9f379f9"
   },
   "outputs": [
    {
     "name": "stdout",
     "output_type": "stream",
     "text": [
      "@@@@@@@@@ for prediction\n",
      "Model: \"model_mnist_gradcam_1\"\n",
      "__________________________________________________________________________________________________\n",
      "Layer (type)                    Output Shape         Param #     Connected to                     \n",
      "==================================================================================================\n",
      "imgs (InputLayer)               [(None, 28, 28, 1)]  0                                            \n",
      "__________________________________________________________________________________________________\n",
      "conv2d_4 (Conv2D)               (None, 28, 28, 32)   320         imgs[0][0]                       \n",
      "__________________________________________________________________________________________________\n",
      "max_pooling2d_3 (MaxPooling2D)  (None, 14, 14, 32)   0           conv2d_4[0][0]                   \n",
      "__________________________________________________________________________________________________\n",
      "conv2d_5 (Conv2D)               (None, 12, 12, 64)   18496       max_pooling2d_3[0][0]            \n",
      "__________________________________________________________________________________________________\n",
      "max_pooling2d_4 (MaxPooling2D)  (None, 6, 6, 64)     0           conv2d_5[0][0]                   \n",
      "__________________________________________________________________________________________________\n",
      "conv2d_6 (Conv2D)               (None, 4, 4, 128)    73856       max_pooling2d_4[0][0]            \n",
      "__________________________________________________________________________________________________\n",
      "conv2d_7 (Conv2D)               (None, 2, 2, 128)    147584      conv2d_6[0][0]                   \n",
      "__________________________________________________________________________________________________\n",
      "max_pooling2d_5 (MaxPooling2D)  (None, 1, 1, 128)    0           conv2d_7[0][0]                   \n",
      "__________________________________________________________________________________________________\n",
      "flatten_1 (Flatten)             (None, 128)          0           max_pooling2d_5[0][0]            \n",
      "__________________________________________________________________________________________________\n",
      "dense_2 (Dense)                 (None, 64)           8256        flatten_1[0][0]                  \n",
      "__________________________________________________________________________________________________\n",
      "dropout_1 (Dropout)             (None, 64)           0           dense_2[0][0]                    \n",
      "__________________________________________________________________________________________________\n",
      "dense_3 (Dense)                 (None, 10)           650         dropout_1[0][0]                  \n",
      "__________________________________________________________________________________________________\n",
      "activation_1 (Activation)       (None, 10)           0           dense_3[0][0]                    \n",
      "__________________________________________________________________________________________________\n",
      "labels (InputLayer)             [(None, 10)]         0                                            \n",
      "__________________________________________________________________________________________________\n",
      "lambda_4 (Lambda)               (None,)              0           labels[0][0]                     \n",
      "                                                                 activation_1[0][0]               \n",
      "__________________________________________________________________________________________________\n",
      "lambda_3 (Lambda)               [(None, 2, 2, 128)]  0           dense_3[0][0]                    \n",
      "                                                                 conv2d_7[0][0]                   \n",
      "                                                                 labels[0][0]                     \n",
      "__________________________________________________________________________________________________\n",
      "lambda_5 (Lambda)               [(None, 28, 28, 1)]  0           lambda_4[0][0]                   \n",
      "                                                                 imgs[0][0]                       \n",
      "==================================================================================================\n",
      "Total params: 249,162\n",
      "Trainable params: 249,162\n",
      "Non-trainable params: 0\n",
      "__________________________________________________________________________________________________\n"
     ]
    }
   ],
   "source": [
    "model_pred = models.Model_mnist_gradcam(b_training=False, model_path=save_dir + '/model.h5')"
   ]
  },
  {
   "cell_type": "code",
   "execution_count": 0,
   "metadata": {
    "colab": {},
    "colab_type": "code",
    "id": "-rQuHaAwWgOz"
   },
   "outputs": [],
   "source": [
    "import tensorflow.keras.backend as K\n",
    "\n",
    "def get_cam(model, x, y):    \n",
    "    result = model.predict([y.reshape((1, 10)), x.reshape((1, 28, 28, 1))])\n",
    "    print('answer: ', K.eval(K.argmax(y)))\n",
    "    print('prediction: ', K.eval(K.argmax(result[0])))\n",
    "\n",
    "    conv_grad = result[1]\n",
    "    conv_grad = conv_grad.reshape(conv_grad.shape[1:])\n",
    "    conv_output = result[2]\n",
    "    conv_output = conv_output.reshape(conv_output.shape[1:])\n",
    "    input_grad = result[3]\n",
    "    input_grad = input_grad.reshape(input_grad.shape[1:])\n",
    "    gradRGB = gb_viz = input_grad\n",
    "\n",
    "    from skimage.transform import resize\n",
    "    import cv2\n",
    "\n",
    "    # global average pooling\n",
    "    weights = np.mean(conv_grad, axis = (0, 1))\n",
    "    cam = np.zeros(conv_output.shape[0 : 2], dtype = np.float32)\n",
    "\n",
    "    for i, w in enumerate(weights):\n",
    "        cam += w * conv_output[:, :, i]\n",
    "\n",
    "    cam = np.maximum(cam, 0)\n",
    "    cam = cam / np.max(cam)\n",
    "    cam = resize(cam, (28,28), preserve_range=True)\n",
    "\n",
    "    img = x.astype(float)\n",
    "    #img -= np.min(img)\n",
    "    #img /= img.max()\n",
    "\n",
    "    cam_heatmap = cv2.applyColorMap(np.uint8(255*cam), cv2.COLORMAP_JET)\n",
    "    cam_heatmap = cv2.cvtColor(cam_heatmap, cv2.COLOR_BGR2RGB)\n",
    "\n",
    "\n",
    "    cam = np.float32(cam.reshape((28, 28, 1))) * np.float32(img)\n",
    "    cam = 255 * cam / np.max(cam)\n",
    "    cam = np.uint8(cam)\n",
    "\n",
    "    return img, cam, cam_heatmap"
   ]
  },
  {
   "cell_type": "code",
   "execution_count": 0,
   "metadata": {
    "colab": {},
    "colab_type": "code",
    "id": "m8yWa5VWQbwJ"
   },
   "outputs": [],
   "source": [
    "from PIL import Image\n",
    "def save_img(img, file):\n",
    "    img[ img <   0 ] = 0\n",
    "    img[ img > 255 ] = 255\n",
    "    if os.path.exists(os.path.dirname(file)) is False:\n",
    "        os.makedirs( os.path.dirname(file) )\n",
    "    Image.fromarray(img.astype(np.uint8)).save(file)"
   ]
  },
  {
   "cell_type": "code",
   "execution_count": 0,
   "metadata": {
    "colab": {
     "base_uri": "https://localhost:8080/",
     "height": 697
    },
    "colab_type": "code",
    "executionInfo": {
     "elapsed": 4263,
     "status": "ok",
     "timestamp": 1565789873414,
     "user": {
      "displayName": "あんずまりも",
      "photoUrl": "",
      "userId": "13382162523357820489"
     },
     "user_tz": -540
    },
    "id": "2cl3-whKQaU1",
    "outputId": "f5501ea5-425e-43b3-af73-ca2cbfb18e39"
   },
   "outputs": [
    {
     "name": "stdout",
     "output_type": "stream",
     "text": [
      "answer:  7\n",
      "prediction:  [7]\n",
      "answer:  2\n",
      "prediction:  [2]\n",
      "answer:  1\n",
      "prediction:  [1]\n",
      "answer:  0\n",
      "prediction:  [0]\n",
      "answer:  4\n",
      "prediction:  [4]\n",
      "answer:  1\n",
      "prediction:  [1]\n",
      "answer:  4\n",
      "prediction:  [4]\n",
      "answer:  9\n",
      "prediction:  [9]\n",
      "answer:  5\n",
      "prediction:  [5]\n",
      "answer:  9\n",
      "prediction:  [9]\n",
      "answer:  0\n",
      "prediction:  [0]\n",
      "answer:  6\n",
      "prediction:  [6]\n",
      "answer:  9\n",
      "prediction:  [9]\n",
      "answer:  0\n",
      "prediction:  [0]\n",
      "answer:  1\n",
      "prediction:  [1]\n",
      "answer:  5\n",
      "prediction:  [5]\n",
      "answer:  9\n",
      "prediction:  [9]\n",
      "answer:  7\n",
      "prediction:  [7]\n",
      "answer:  3\n",
      "prediction:  [3]\n",
      "answer:  4\n",
      "prediction:  [4]\n"
     ]
    }
   ],
   "source": [
    "for i in range(20):\n",
    "    x = data.x_val[i]\n",
    "    y = data.y_val[i]\n",
    "\n",
    "    img, cam, cam_heatmap = get_cam(model_pred, x, y)\n",
    "    \n",
    "    shape = (img.shape[0], img.shape[1])    \n",
    "    overlay = np.zeros((img.shape[0], img.shape[1], 3))\n",
    "    overlay[:,:,0] = img.reshape(shape)*128 + cam_heatmap[:,:,0]*0.5\n",
    "    overlay[:,:,1] = img.reshape(shape)*128 + cam_heatmap[:,:,1]*0.5\n",
    "    overlay[:,:,2] = img.reshape(shape)*128 + cam_heatmap[:,:,2]*0.5\n",
    "    save_img( img.reshape(shape)*255, g_dir_work + 'mnist_cams/{0:03d}_original.png'.format(i) )\n",
    "    save_img( cam.reshape(shape)*255, g_dir_work + 'mnist_cams/{0:03d}_cam.png'.format(i) )\n",
    "    save_img( overlay, g_dir_work + 'mnist_cams/{0:03d}_overlaied.png'.format(i) )"
   ]
  },
  {
   "cell_type": "markdown",
   "metadata": {
    "colab_type": "text",
    "id": "cEkrM75haz4s"
   },
   "source": []
  },
  {
   "cell_type": "code",
   "execution_count": 0,
   "metadata": {
    "colab": {},
    "colab_type": "code",
    "id": "t4J8VW7VaoV5"
   },
   "outputs": [],
   "source": []
  }
 ],
 "metadata": {
  "accelerator": "GPU",
  "colab": {
   "collapsed_sections": [],
   "name": "190814_keras_mnist_class.ipynb",
   "provenance": [],
   "version": "0.3.2"
  },
  "kernelspec": {
   "display_name": "Python 3",
   "language": "python",
   "name": "python3"
  },
  "language_info": {
   "codemirror_mode": {
    "name": "ipython",
    "version": 3
   },
   "file_extension": ".py",
   "mimetype": "text/x-python",
   "name": "python",
   "nbconvert_exporter": "python",
   "pygments_lexer": "ipython3",
   "version": "3.7.3"
  }
 },
 "nbformat": 4,
 "nbformat_minor": 1
}
