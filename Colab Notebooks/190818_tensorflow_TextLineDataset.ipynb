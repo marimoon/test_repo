{
 "cells": [
  {
   "cell_type": "markdown",
   "metadata": {},
   "source": [
    "### tf.data.TextLineDatasetのサンプル\n",
    "https://deepage.net/tensorflow/2017/07/18/tensorflow-dataset-api.html"
   ]
  },
  {
   "cell_type": "code",
   "execution_count": 1,
   "metadata": {},
   "outputs": [],
   "source": [
    "import tensorflow as tf\n",
    "sess = tf.Session()"
   ]
  },
  {
   "cell_type": "code",
   "execution_count": 2,
   "metadata": {},
   "outputs": [],
   "source": [
    "class Categories(object):\n",
    "    __instance = None\n",
    "    def __new__(cls, *args, **keys):\n",
    "        if cls.__instance is None:\n",
    "            cls.__instance = object.__new__(cls)\n",
    "        return cls.__instance\n",
    "\n",
    "    def __init__(self):\n",
    "            self.items = ['0', '1', '2', '3', '4', '5', '6', '7', '8', '9' ]\n",
    "            self.num   = len(self.items)"
   ]
  },
  {
   "cell_type": "code",
   "execution_count": 3,
   "metadata": {},
   "outputs": [],
   "source": [
    "import numpy as np\n",
    "work_dir = '../colab/tmp'\n",
    "input_file = work_dir + '/input.txt'\n",
    "N = 100\n",
    "num_labels = Categories().num\n",
    "\n",
    "with open(input_file, 'w') as fp:\n",
    "    for i in range(N):\n",
    "        data = np.random.random(32).astype(np.float32)\n",
    "        label = int(np.random.random()* num_labels) # ラベル番号:0-(num_labels-1)\n",
    "        fp.writelines('{0}/{1:03d}.npy,{2}\\n'.format(work_dir, i, label))\n",
    "        np.save('{0}/{1:03d}.npy'.format(work_dir, i), data)"
   ]
  },
  {
   "cell_type": "code",
   "execution_count": 4,
   "metadata": {},
   "outputs": [
    {
     "name": "stdout",
     "output_type": "stream",
     "text": [
      "WARNING:tensorflow:From <ipython-input-4-62c000885d39>:17: py_func (from tensorflow.python.ops.script_ops) is deprecated and will be removed in a future version.\n",
      "Instructions for updating:\n",
      "tf.py_func is deprecated in TF V2. Instead, use\n",
      "    tf.py_function, which takes a python function which manipulates tf eager\n",
      "    tensors instead of numpy arrays. It's easy to convert a tf eager tensor to\n",
      "    an ndarray (just call tensor.numpy()) but having access to eager tensors\n",
      "    means `tf.py_function`s can use accelerators such as GPUs as well as\n",
      "    being differentiable using a gradient tape.\n",
      "    \n"
     ]
    }
   ],
   "source": [
    "def to_index(label):\n",
    "    return Categories().items.index(label)\n",
    "\n",
    "def parse_csv(line):\n",
    "    [filename, category] = line.decode('utf-8').split(',')\n",
    "    return filename, to_index(category)\n",
    "\n",
    "def read_data(filename, label):\n",
    "    inputs = np.load(filename.decode('utf-8'))#.astype(np.float32)\n",
    "    return inputs, label\n",
    "\n",
    "def one_hot(data, label):\n",
    "    return data, tf.one_hot( label, Categories().num  )\n",
    "\n",
    "dataset = tf.data.TextLineDataset(input_file)\n",
    "#dataset = dataset.skip(1)   # 列の読み飛ばし\n",
    "dataset = dataset.map(lambda x  : tf.py_func(parse_csv, [x],    [tf.string,  tf.int32]))\n",
    "dataset = dataset.map(lambda x,y: tf.py_func(read_data, [x, y], [tf.float32, tf.int32]))\n",
    "dataset = dataset.map(one_hot)\n",
    "dataset = dataset.repeat()\n",
    "dataset = dataset.shuffle(4)\n",
    "dataset = dataset.batch(4)\n",
    "\n",
    "iterator = dataset.make_one_shot_iterator()\n",
    "next_elem = iterator.get_next()"
   ]
  },
  {
   "cell_type": "code",
   "execution_count": 6,
   "metadata": {},
   "outputs": [
    {
     "name": "stdout",
     "output_type": "stream",
     "text": [
      "2\n",
      "\n",
      "data ----------------------------------\n",
      "(4, 32)\n",
      "\n",
      "labels ----------------------------------\n",
      "(4, 10)\n",
      "[[0. 0. 0. 0. 0. 0. 1. 0. 0. 0.]\n",
      " [0. 0. 0. 0. 0. 1. 0. 0. 0. 0.]\n",
      " [0. 0. 0. 0. 0. 1. 0. 0. 0. 0.]\n",
      " [1. 0. 0. 0. 0. 0. 0. 0. 0. 0.]]\n"
     ]
    }
   ],
   "source": [
    "val = sess.run(next_elem)\n",
    "\n",
    "print(len(val))\n",
    "print('\\ndata ----------------------------------')\n",
    "print(val[0].shape)\n",
    "#print(val[0])\n",
    "\n",
    "print('\\nlabels ----------------------------------')\n",
    "print(val[1].shape)\n",
    "print(val[1])"
   ]
  },
  {
   "cell_type": "code",
   "execution_count": null,
   "metadata": {},
   "outputs": [],
   "source": []
  }
 ],
 "metadata": {
  "kernelspec": {
   "display_name": "Python 3",
   "language": "python",
   "name": "python3"
  },
  "language_info": {
   "codemirror_mode": {
    "name": "ipython",
    "version": 3
   },
   "file_extension": ".py",
   "mimetype": "text/x-python",
   "name": "python",
   "nbconvert_exporter": "python",
   "pygments_lexer": "ipython3",
   "version": "3.7.3"
  }
 },
 "nbformat": 4,
 "nbformat_minor": 2
}
